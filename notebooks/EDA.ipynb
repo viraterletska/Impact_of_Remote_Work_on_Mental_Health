{
 "cells": [
  {
   "cell_type": "code",
   "execution_count": 7,
   "id": "c3d9b808-ef8b-4e0e-87ed-19f45044c419",
   "metadata": {},
   "outputs": [],
   "source": [
    "import pandas as pd\n",
    "\n",
    "df = pd.read_csv(r'C:\\Users\\Admin\\PycharmProjects\\Impact_of_Remote_Work_on_Mental_Health\\data\\Impact_of_Remote_Work_on_Mental_Health.csv')"
   ]
  },
  {
   "cell_type": "code",
   "execution_count": null,
   "id": "b3f296ea-d6ba-4445-a381-6d39fb3a051a",
   "metadata": {},
   "outputs": [],
   "source": []
  }
 ],
 "metadata": {
  "kernelspec": {
   "display_name": "Python 3 (ipykernel)",
   "language": "python",
   "name": "python3"
  },
  "language_info": {
   "codemirror_mode": {
    "name": "ipython",
    "version": 3
   },
   "file_extension": ".py",
   "mimetype": "text/x-python",
   "name": "python",
   "nbconvert_exporter": "python",
   "pygments_lexer": "ipython3",
   "version": "3.12.6"
  }
 },
 "nbformat": 4,
 "nbformat_minor": 5
}
